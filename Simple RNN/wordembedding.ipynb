{
 "cells": [
  {
   "cell_type": "code",
   "execution_count": 1,
   "id": "5eb50b47",
   "metadata": {},
   "outputs": [],
   "source": [
    "from tensorflow.keras.preprocessing.text import one_hot"
   ]
  },
  {
   "cell_type": "code",
   "execution_count": 2,
   "id": "7c5e63ff",
   "metadata": {},
   "outputs": [],
   "source": [
    "# Sentences\n",
    "sent = [\n",
    "    'the glass of milk',\n",
    "    'the glass of juice',\n",
    "    'the cup of tea',\n",
    "    'I am a good boy',\n",
    "    'I am a good developer',\n",
    "    'understand the meaning of words',\n",
    "    'your videos are good'\n",
    "]"
   ]
  },
  {
   "cell_type": "code",
   "execution_count": 3,
   "id": "1f48215e",
   "metadata": {},
   "outputs": [
    {
     "data": {
      "text/plain": [
       "['the glass of milk',\n",
       " 'the glass of juice',\n",
       " 'the cup of tea',\n",
       " 'I am a good boy',\n",
       " 'I am a good developer',\n",
       " 'understand the meaning of words',\n",
       " 'your videos are good']"
      ]
     },
     "execution_count": 3,
     "metadata": {},
     "output_type": "execute_result"
    }
   ],
   "source": [
    "sent"
   ]
  },
  {
   "cell_type": "code",
   "execution_count": 4,
   "id": "d4885196",
   "metadata": {},
   "outputs": [],
   "source": [
    "# Define the vocabulary size\n",
    "voc_size = 10000"
   ]
  },
  {
   "cell_type": "code",
   "execution_count": 5,
   "id": "4b5d2099",
   "metadata": {},
   "outputs": [
    {
     "data": {
      "text/plain": [
       "[[2892, 6456, 1226, 8792],\n",
       " [2892, 6456, 1226, 1493],\n",
       " [2892, 8164, 1226, 1025],\n",
       " [9686, 8856, 3669, 9114, 6829],\n",
       " [9686, 8856, 3669, 9114, 7628],\n",
       " [8191, 2892, 2514, 1226, 8528],\n",
       " [7954, 9381, 3912, 9114]]"
      ]
     },
     "execution_count": 5,
     "metadata": {},
     "output_type": "execute_result"
    }
   ],
   "source": [
    "# One Hot Representation\n",
    "one_hot_repr = [one_hot(words, voc_size)for words in sent]\n",
    "one_hot_repr\n",
    "    "
   ]
  },
  {
   "cell_type": "code",
   "execution_count": 6,
   "id": "0536d9b0",
   "metadata": {},
   "outputs": [],
   "source": [
    "# Word Embedding Representation\n",
    "\n",
    "from tensorflow.keras.layers import Embedding\n",
    "#from tensorflow.keras.processing.sequence import pad_sequences\n",
    "from tensorflow.keras.utils import pad_sequences\n",
    "from tensorflow.keras.models import Sequential\n",
    "import numpy as np"
   ]
  },
  {
   "cell_type": "code",
   "execution_count": 7,
   "id": "50da9f0d",
   "metadata": {},
   "outputs": [
    {
     "name": "stdout",
     "output_type": "stream",
     "text": [
      "[[   0    0    0    0 2892 6456 1226 8792]\n",
      " [   0    0    0    0 2892 6456 1226 1493]\n",
      " [   0    0    0    0 2892 8164 1226 1025]\n",
      " [   0    0    0 9686 8856 3669 9114 6829]\n",
      " [   0    0    0 9686 8856 3669 9114 7628]\n",
      " [   0    0    0 8191 2892 2514 1226 8528]\n",
      " [   0    0    0    0 7954 9381 3912 9114]]\n"
     ]
    }
   ],
   "source": [
    "sent_length = 8\n",
    "Embedded_docs = pad_sequences(one_hot_repr, padding='pre', maxlen=sent_length)\n",
    "print(Embedded_docs)"
   ]
  },
  {
   "cell_type": "code",
   "execution_count": 8,
   "id": "ed338526",
   "metadata": {},
   "outputs": [],
   "source": [
    "# Feature representation\n",
    "dim = 10"
   ]
  },
  {
   "cell_type": "code",
   "execution_count": 13,
   "id": "97f2e8cc",
   "metadata": {},
   "outputs": [
    {
     "data": {
      "text/html": [
       "<pre style=\"white-space:pre;overflow-x:auto;line-height:normal;font-family:Menlo,'DejaVu Sans Mono',consolas,'Courier New',monospace\"><span style=\"font-weight: bold\">Model: \"sequential_4\"</span>\n",
       "</pre>\n"
      ],
      "text/plain": [
       "\u001b[1mModel: \"sequential_4\"\u001b[0m\n"
      ]
     },
     "metadata": {},
     "output_type": "display_data"
    },
    {
     "data": {
      "text/html": [
       "<pre style=\"white-space:pre;overflow-x:auto;line-height:normal;font-family:Menlo,'DejaVu Sans Mono',consolas,'Courier New',monospace\">┏━━━━━━━━━━━━━━━━━━━━━━━━━━━━━━━━━┳━━━━━━━━━━━━━━━━━━━━━━━━┳━━━━━━━━━━━━━━━┓\n",
       "┃<span style=\"font-weight: bold\"> Layer (type)                    </span>┃<span style=\"font-weight: bold\"> Output Shape           </span>┃<span style=\"font-weight: bold\">       Param # </span>┃\n",
       "┡━━━━━━━━━━━━━━━━━━━━━━━━━━━━━━━━━╇━━━━━━━━━━━━━━━━━━━━━━━━╇━━━━━━━━━━━━━━━┩\n",
       "│ embedding_4 (<span style=\"color: #0087ff; text-decoration-color: #0087ff\">Embedding</span>)         │ (<span style=\"color: #00d7ff; text-decoration-color: #00d7ff\">None</span>, <span style=\"color: #00af00; text-decoration-color: #00af00\">8</span>, <span style=\"color: #00af00; text-decoration-color: #00af00\">10</span>)          │       <span style=\"color: #00af00; text-decoration-color: #00af00\">100,000</span> │\n",
       "└─────────────────────────────────┴────────────────────────┴───────────────┘\n",
       "</pre>\n"
      ],
      "text/plain": [
       "┏━━━━━━━━━━━━━━━━━━━━━━━━━━━━━━━━━┳━━━━━━━━━━━━━━━━━━━━━━━━┳━━━━━━━━━━━━━━━┓\n",
       "┃\u001b[1m \u001b[0m\u001b[1mLayer (type)                   \u001b[0m\u001b[1m \u001b[0m┃\u001b[1m \u001b[0m\u001b[1mOutput Shape          \u001b[0m\u001b[1m \u001b[0m┃\u001b[1m \u001b[0m\u001b[1m      Param #\u001b[0m\u001b[1m \u001b[0m┃\n",
       "┡━━━━━━━━━━━━━━━━━━━━━━━━━━━━━━━━━╇━━━━━━━━━━━━━━━━━━━━━━━━╇━━━━━━━━━━━━━━━┩\n",
       "│ embedding_4 (\u001b[38;5;33mEmbedding\u001b[0m)         │ (\u001b[38;5;45mNone\u001b[0m, \u001b[38;5;34m8\u001b[0m, \u001b[38;5;34m10\u001b[0m)          │       \u001b[38;5;34m100,000\u001b[0m │\n",
       "└─────────────────────────────────┴────────────────────────┴───────────────┘\n"
      ]
     },
     "metadata": {},
     "output_type": "display_data"
    },
    {
     "data": {
      "text/html": [
       "<pre style=\"white-space:pre;overflow-x:auto;line-height:normal;font-family:Menlo,'DejaVu Sans Mono',consolas,'Courier New',monospace\"><span style=\"font-weight: bold\"> Total params: </span><span style=\"color: #00af00; text-decoration-color: #00af00\">100,000</span> (390.62 KB)\n",
       "</pre>\n"
      ],
      "text/plain": [
       "\u001b[1m Total params: \u001b[0m\u001b[38;5;34m100,000\u001b[0m (390.62 KB)\n"
      ]
     },
     "metadata": {},
     "output_type": "display_data"
    },
    {
     "data": {
      "text/html": [
       "<pre style=\"white-space:pre;overflow-x:auto;line-height:normal;font-family:Menlo,'DejaVu Sans Mono',consolas,'Courier New',monospace\"><span style=\"font-weight: bold\"> Trainable params: </span><span style=\"color: #00af00; text-decoration-color: #00af00\">100,000</span> (390.62 KB)\n",
       "</pre>\n"
      ],
      "text/plain": [
       "\u001b[1m Trainable params: \u001b[0m\u001b[38;5;34m100,000\u001b[0m (390.62 KB)\n"
      ]
     },
     "metadata": {},
     "output_type": "display_data"
    },
    {
     "data": {
      "text/html": [
       "<pre style=\"white-space:pre;overflow-x:auto;line-height:normal;font-family:Menlo,'DejaVu Sans Mono',consolas,'Courier New',monospace\"><span style=\"font-weight: bold\"> Non-trainable params: </span><span style=\"color: #00af00; text-decoration-color: #00af00\">0</span> (0.00 B)\n",
       "</pre>\n"
      ],
      "text/plain": [
       "\u001b[1m Non-trainable params: \u001b[0m\u001b[38;5;34m0\u001b[0m (0.00 B)\n"
      ]
     },
     "metadata": {},
     "output_type": "display_data"
    }
   ],
   "source": [
    "model = Sequential()\n",
    "model.add(Embedding(input_dim=voc_size, output_dim=dim))\n",
    "model.build(input_shape=(None, sent_length))\n",
    "model.compile(optimizer='adam', loss='mse')\n",
    "model.summary()"
   ]
  },
  {
   "cell_type": "code",
   "execution_count": 14,
   "id": "d9aa39ca",
   "metadata": {},
   "outputs": [
    {
     "name": "stdout",
     "output_type": "stream",
     "text": [
      "\u001b[1m1/1\u001b[0m \u001b[32m━━━━━━━━━━━━━━━━━━━━\u001b[0m\u001b[37m\u001b[0m \u001b[1m0s\u001b[0m 70ms/step\n"
     ]
    },
    {
     "data": {
      "text/plain": [
       "array([[[ 0.02399084,  0.00791433, -0.04276835, -0.04708682,\n",
       "          0.0432389 ,  0.04377637,  0.02430527,  0.03182024,\n",
       "          0.00377178, -0.02502601],\n",
       "        [ 0.02399084,  0.00791433, -0.04276835, -0.04708682,\n",
       "          0.0432389 ,  0.04377637,  0.02430527,  0.03182024,\n",
       "          0.00377178, -0.02502601],\n",
       "        [ 0.02399084,  0.00791433, -0.04276835, -0.04708682,\n",
       "          0.0432389 ,  0.04377637,  0.02430527,  0.03182024,\n",
       "          0.00377178, -0.02502601],\n",
       "        [ 0.02399084,  0.00791433, -0.04276835, -0.04708682,\n",
       "          0.0432389 ,  0.04377637,  0.02430527,  0.03182024,\n",
       "          0.00377178, -0.02502601],\n",
       "        [ 0.00576733, -0.00651984,  0.03298165, -0.01302218,\n",
       "          0.04922261, -0.01954621,  0.00641895, -0.00893723,\n",
       "          0.03762174, -0.03858476],\n",
       "        [-0.04268186, -0.00920925,  0.0302623 , -0.01296609,\n",
       "          0.00745473,  0.00207385, -0.00825102,  0.01688569,\n",
       "          0.03563296,  0.02064991],\n",
       "        [ 0.01314641, -0.01040566,  0.00398107,  0.03507663,\n",
       "         -0.00914853, -0.01611099, -0.02589634,  0.01049045,\n",
       "         -0.04202248,  0.00217022],\n",
       "        [ 0.01804667, -0.03035278,  0.01133202, -0.04450185,\n",
       "          0.00465471,  0.00692499,  0.04762563,  0.00078125,\n",
       "          0.01282122,  0.01995758]],\n",
       "\n",
       "       [[ 0.02399084,  0.00791433, -0.04276835, -0.04708682,\n",
       "          0.0432389 ,  0.04377637,  0.02430527,  0.03182024,\n",
       "          0.00377178, -0.02502601],\n",
       "        [ 0.02399084,  0.00791433, -0.04276835, -0.04708682,\n",
       "          0.0432389 ,  0.04377637,  0.02430527,  0.03182024,\n",
       "          0.00377178, -0.02502601],\n",
       "        [ 0.02399084,  0.00791433, -0.04276835, -0.04708682,\n",
       "          0.0432389 ,  0.04377637,  0.02430527,  0.03182024,\n",
       "          0.00377178, -0.02502601],\n",
       "        [ 0.02399084,  0.00791433, -0.04276835, -0.04708682,\n",
       "          0.0432389 ,  0.04377637,  0.02430527,  0.03182024,\n",
       "          0.00377178, -0.02502601],\n",
       "        [ 0.00576733, -0.00651984,  0.03298165, -0.01302218,\n",
       "          0.04922261, -0.01954621,  0.00641895, -0.00893723,\n",
       "          0.03762174, -0.03858476],\n",
       "        [-0.04268186, -0.00920925,  0.0302623 , -0.01296609,\n",
       "          0.00745473,  0.00207385, -0.00825102,  0.01688569,\n",
       "          0.03563296,  0.02064991],\n",
       "        [ 0.01314641, -0.01040566,  0.00398107,  0.03507663,\n",
       "         -0.00914853, -0.01611099, -0.02589634,  0.01049045,\n",
       "         -0.04202248,  0.00217022],\n",
       "        [-0.02778867,  0.0201127 , -0.03632581,  0.02109844,\n",
       "          0.01722497,  0.02449046, -0.03013717,  0.02837603,\n",
       "         -0.03132655, -0.0041942 ]],\n",
       "\n",
       "       [[ 0.02399084,  0.00791433, -0.04276835, -0.04708682,\n",
       "          0.0432389 ,  0.04377637,  0.02430527,  0.03182024,\n",
       "          0.00377178, -0.02502601],\n",
       "        [ 0.02399084,  0.00791433, -0.04276835, -0.04708682,\n",
       "          0.0432389 ,  0.04377637,  0.02430527,  0.03182024,\n",
       "          0.00377178, -0.02502601],\n",
       "        [ 0.02399084,  0.00791433, -0.04276835, -0.04708682,\n",
       "          0.0432389 ,  0.04377637,  0.02430527,  0.03182024,\n",
       "          0.00377178, -0.02502601],\n",
       "        [ 0.02399084,  0.00791433, -0.04276835, -0.04708682,\n",
       "          0.0432389 ,  0.04377637,  0.02430527,  0.03182024,\n",
       "          0.00377178, -0.02502601],\n",
       "        [ 0.00576733, -0.00651984,  0.03298165, -0.01302218,\n",
       "          0.04922261, -0.01954621,  0.00641895, -0.00893723,\n",
       "          0.03762174, -0.03858476],\n",
       "        [ 0.04133531, -0.00396312, -0.01530766,  0.02416318,\n",
       "          0.00860386,  0.02891928, -0.04567556,  0.01094095,\n",
       "         -0.00332656, -0.01980778],\n",
       "        [ 0.01314641, -0.01040566,  0.00398107,  0.03507663,\n",
       "         -0.00914853, -0.01611099, -0.02589634,  0.01049045,\n",
       "         -0.04202248,  0.00217022],\n",
       "        [ 0.04331759, -0.00384593,  0.02169523,  0.0462636 ,\n",
       "         -0.04386736, -0.03650194,  0.00801492, -0.0247569 ,\n",
       "          0.02861619,  0.0159465 ]],\n",
       "\n",
       "       [[ 0.02399084,  0.00791433, -0.04276835, -0.04708682,\n",
       "          0.0432389 ,  0.04377637,  0.02430527,  0.03182024,\n",
       "          0.00377178, -0.02502601],\n",
       "        [ 0.02399084,  0.00791433, -0.04276835, -0.04708682,\n",
       "          0.0432389 ,  0.04377637,  0.02430527,  0.03182024,\n",
       "          0.00377178, -0.02502601],\n",
       "        [ 0.02399084,  0.00791433, -0.04276835, -0.04708682,\n",
       "          0.0432389 ,  0.04377637,  0.02430527,  0.03182024,\n",
       "          0.00377178, -0.02502601],\n",
       "        [-0.0295314 , -0.02541873, -0.01159177,  0.0242088 ,\n",
       "          0.00849684,  0.04748474,  0.00496327,  0.02237815,\n",
       "          0.01551168,  0.00721521],\n",
       "        [-0.03426109,  0.04048762,  0.0239724 , -0.01319761,\n",
       "         -0.0056632 , -0.02094229,  0.00151299, -0.02804714,\n",
       "         -0.04243783, -0.01978275],\n",
       "        [ 0.00699068,  0.04014827, -0.02060386, -0.01020737,\n",
       "          0.01294769,  0.0219003 , -0.02290158, -0.03683778,\n",
       "          0.02358757, -0.00247318],\n",
       "        [ 0.00029694,  0.02580469, -0.02351705, -0.0402557 ,\n",
       "          0.01980929, -0.03526799,  0.0036317 , -0.03956367,\n",
       "         -0.00051489,  0.00806902],\n",
       "        [ 0.03992727,  0.02420893, -0.02260296,  0.02448851,\n",
       "          0.02858027,  0.04011175, -0.00679126,  0.00293892,\n",
       "          0.03195913,  0.02419226]],\n",
       "\n",
       "       [[ 0.02399084,  0.00791433, -0.04276835, -0.04708682,\n",
       "          0.0432389 ,  0.04377637,  0.02430527,  0.03182024,\n",
       "          0.00377178, -0.02502601],\n",
       "        [ 0.02399084,  0.00791433, -0.04276835, -0.04708682,\n",
       "          0.0432389 ,  0.04377637,  0.02430527,  0.03182024,\n",
       "          0.00377178, -0.02502601],\n",
       "        [ 0.02399084,  0.00791433, -0.04276835, -0.04708682,\n",
       "          0.0432389 ,  0.04377637,  0.02430527,  0.03182024,\n",
       "          0.00377178, -0.02502601],\n",
       "        [-0.0295314 , -0.02541873, -0.01159177,  0.0242088 ,\n",
       "          0.00849684,  0.04748474,  0.00496327,  0.02237815,\n",
       "          0.01551168,  0.00721521],\n",
       "        [-0.03426109,  0.04048762,  0.0239724 , -0.01319761,\n",
       "         -0.0056632 , -0.02094229,  0.00151299, -0.02804714,\n",
       "         -0.04243783, -0.01978275],\n",
       "        [ 0.00699068,  0.04014827, -0.02060386, -0.01020737,\n",
       "          0.01294769,  0.0219003 , -0.02290158, -0.03683778,\n",
       "          0.02358757, -0.00247318],\n",
       "        [ 0.00029694,  0.02580469, -0.02351705, -0.0402557 ,\n",
       "          0.01980929, -0.03526799,  0.0036317 , -0.03956367,\n",
       "         -0.00051489,  0.00806902],\n",
       "        [ 0.02586759, -0.00335171,  0.04900846, -0.0175354 ,\n",
       "         -0.04826587, -0.02362689,  0.04912809, -0.0306178 ,\n",
       "          0.03378106, -0.00563031]],\n",
       "\n",
       "       [[ 0.02399084,  0.00791433, -0.04276835, -0.04708682,\n",
       "          0.0432389 ,  0.04377637,  0.02430527,  0.03182024,\n",
       "          0.00377178, -0.02502601],\n",
       "        [ 0.02399084,  0.00791433, -0.04276835, -0.04708682,\n",
       "          0.0432389 ,  0.04377637,  0.02430527,  0.03182024,\n",
       "          0.00377178, -0.02502601],\n",
       "        [ 0.02399084,  0.00791433, -0.04276835, -0.04708682,\n",
       "          0.0432389 ,  0.04377637,  0.02430527,  0.03182024,\n",
       "          0.00377178, -0.02502601],\n",
       "        [ 0.01961478, -0.00044229, -0.01498093,  0.00714714,\n",
       "         -0.03637383, -0.0247209 , -0.03980788, -0.00961496,\n",
       "         -0.01684912, -0.01995655],\n",
       "        [ 0.00576733, -0.00651984,  0.03298165, -0.01302218,\n",
       "          0.04922261, -0.01954621,  0.00641895, -0.00893723,\n",
       "          0.03762174, -0.03858476],\n",
       "        [ 0.0001505 ,  0.0122594 ,  0.04512571,  0.041715  ,\n",
       "          0.00694095,  0.00359211,  0.00544568,  0.03210032,\n",
       "          0.0250096 ,  0.02779673],\n",
       "        [ 0.01314641, -0.01040566,  0.00398107,  0.03507663,\n",
       "         -0.00914853, -0.01611099, -0.02589634,  0.01049045,\n",
       "         -0.04202248,  0.00217022],\n",
       "        [-0.01718117, -0.00107368, -0.02119967, -0.04022419,\n",
       "          0.01929429,  0.03205891, -0.02362454, -0.00886085,\n",
       "          0.00786827, -0.00719343]],\n",
       "\n",
       "       [[ 0.02399084,  0.00791433, -0.04276835, -0.04708682,\n",
       "          0.0432389 ,  0.04377637,  0.02430527,  0.03182024,\n",
       "          0.00377178, -0.02502601],\n",
       "        [ 0.02399084,  0.00791433, -0.04276835, -0.04708682,\n",
       "          0.0432389 ,  0.04377637,  0.02430527,  0.03182024,\n",
       "          0.00377178, -0.02502601],\n",
       "        [ 0.02399084,  0.00791433, -0.04276835, -0.04708682,\n",
       "          0.0432389 ,  0.04377637,  0.02430527,  0.03182024,\n",
       "          0.00377178, -0.02502601],\n",
       "        [ 0.02399084,  0.00791433, -0.04276835, -0.04708682,\n",
       "          0.0432389 ,  0.04377637,  0.02430527,  0.03182024,\n",
       "          0.00377178, -0.02502601],\n",
       "        [ 0.03607762, -0.00548311, -0.03088014, -0.00357809,\n",
       "         -0.01250961,  0.0126015 ,  0.03288466, -0.03209507,\n",
       "          0.01035457,  0.01242384],\n",
       "        [ 0.01506208, -0.03702599,  0.03906263, -0.00612866,\n",
       "         -0.02991134,  0.04661966,  0.03372078,  0.01478023,\n",
       "          0.04143177, -0.01203016],\n",
       "        [ 0.00974361,  0.03588802, -0.01590258, -0.0118924 ,\n",
       "         -0.0284063 , -0.02365022,  0.00799645,  0.04955151,\n",
       "         -0.0013373 , -0.03999475],\n",
       "        [ 0.00029694,  0.02580469, -0.02351705, -0.0402557 ,\n",
       "          0.01980929, -0.03526799,  0.0036317 , -0.03956367,\n",
       "         -0.00051489,  0.00806902]]], dtype=float32)"
      ]
     },
     "execution_count": 14,
     "metadata": {},
     "output_type": "execute_result"
    }
   ],
   "source": [
    "model.predict(Embedded_docs)"
   ]
  },
  {
   "cell_type": "code",
   "execution_count": 15,
   "id": "0039ba8e",
   "metadata": {},
   "outputs": [
    {
     "data": {
      "text/plain": [
       "array([   0,    0,    0,    0, 2892, 6456, 1226, 8792], dtype=int32)"
      ]
     },
     "execution_count": 15,
     "metadata": {},
     "output_type": "execute_result"
    }
   ],
   "source": [
    "Embedded_docs[0]"
   ]
  },
  {
   "cell_type": "code",
   "execution_count": null,
   "id": "de0fbae9",
   "metadata": {},
   "outputs": [],
   "source": []
  },
  {
   "cell_type": "code",
   "execution_count": null,
   "id": "0d495ad5",
   "metadata": {},
   "outputs": [],
   "source": []
  },
  {
   "cell_type": "code",
   "execution_count": null,
   "id": "eab4f6e9",
   "metadata": {},
   "outputs": [],
   "source": []
  },
  {
   "cell_type": "code",
   "execution_count": null,
   "id": "661bc26c",
   "metadata": {},
   "outputs": [],
   "source": []
  },
  {
   "cell_type": "code",
   "execution_count": null,
   "id": "651869d9",
   "metadata": {},
   "outputs": [],
   "source": []
  },
  {
   "cell_type": "code",
   "execution_count": null,
   "id": "5c2d281f",
   "metadata": {},
   "outputs": [],
   "source": []
  },
  {
   "cell_type": "code",
   "execution_count": null,
   "id": "e57ea0df",
   "metadata": {},
   "outputs": [],
   "source": []
  },
  {
   "cell_type": "code",
   "execution_count": null,
   "id": "6abb63ac",
   "metadata": {},
   "outputs": [],
   "source": []
  },
  {
   "cell_type": "code",
   "execution_count": null,
   "id": "db817d90",
   "metadata": {},
   "outputs": [],
   "source": []
  },
  {
   "cell_type": "code",
   "execution_count": null,
   "id": "41969d4e",
   "metadata": {},
   "outputs": [],
   "source": []
  },
  {
   "cell_type": "code",
   "execution_count": null,
   "id": "f3c102a5",
   "metadata": {},
   "outputs": [],
   "source": []
  },
  {
   "cell_type": "code",
   "execution_count": null,
   "id": "82af18fe",
   "metadata": {},
   "outputs": [],
   "source": []
  },
  {
   "cell_type": "code",
   "execution_count": null,
   "id": "ea022b82",
   "metadata": {},
   "outputs": [],
   "source": []
  }
 ],
 "metadata": {
  "kernelspec": {
   "display_name": "Python 3",
   "language": "python",
   "name": "python3"
  },
  "language_info": {
   "codemirror_mode": {
    "name": "ipython",
    "version": 3
   },
   "file_extension": ".py",
   "mimetype": "text/x-python",
   "name": "python",
   "nbconvert_exporter": "python",
   "pygments_lexer": "ipython3",
   "version": "3.11.13"
  }
 },
 "nbformat": 4,
 "nbformat_minor": 5
}
