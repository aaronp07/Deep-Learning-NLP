{
 "cells": [
  {
   "cell_type": "code",
   "execution_count": 1,
   "id": "5323c112",
   "metadata": {},
   "outputs": [],
   "source": [
    "# Step 1: Import Libraries and Load the model\n",
    "import tensorflow as tf\n",
    "from tensorflow.keras.datasets import imdb\n",
    "from tensorflow.keras.preprocessing import sequence\n",
    "from tensorflow.keras.models import load_model\n",
    "import numpy as np"
   ]
  },
  {
   "cell_type": "code",
   "execution_count": 2,
   "id": "79682ecc",
   "metadata": {},
   "outputs": [],
   "source": [
    "# Load the IMDB dataset word index\n",
    "word_index = imdb.get_word_index()\n",
    "reverse_word_index = {value: key for key, value in word_index.items()}"
   ]
  },
  {
   "cell_type": "code",
   "execution_count": 3,
   "id": "12cf980f",
   "metadata": {},
   "outputs": [
    {
     "name": "stderr",
     "output_type": "stream",
     "text": [
      "WARNING:absl:Compiled the loaded model, but the compiled metrics have yet to be built. `model.compile_metrics` will be empty until you train or evaluate the model.\n"
     ]
    },
    {
     "data": {
      "text/html": [
       "<pre style=\"white-space:pre;overflow-x:auto;line-height:normal;font-family:Menlo,'DejaVu Sans Mono',consolas,'Courier New',monospace\"><span style=\"font-weight: bold\">Model: \"sequential_3\"</span>\n",
       "</pre>\n"
      ],
      "text/plain": [
       "\u001b[1mModel: \"sequential_3\"\u001b[0m\n"
      ]
     },
     "metadata": {},
     "output_type": "display_data"
    },
    {
     "data": {
      "text/html": [
       "<pre style=\"white-space:pre;overflow-x:auto;line-height:normal;font-family:Menlo,'DejaVu Sans Mono',consolas,'Courier New',monospace\">┏━━━━━━━━━━━━━━━━━━━━━━━━━━━━━━━━━┳━━━━━━━━━━━━━━━━━━━━━━━━┳━━━━━━━━━━━━━━━┓\n",
       "┃<span style=\"font-weight: bold\"> Layer (type)                    </span>┃<span style=\"font-weight: bold\"> Output Shape           </span>┃<span style=\"font-weight: bold\">       Param # </span>┃\n",
       "┡━━━━━━━━━━━━━━━━━━━━━━━━━━━━━━━━━╇━━━━━━━━━━━━━━━━━━━━━━━━╇━━━━━━━━━━━━━━━┩\n",
       "│ embedding_3 (<span style=\"color: #0087ff; text-decoration-color: #0087ff\">Embedding</span>)         │ (<span style=\"color: #00d7ff; text-decoration-color: #00d7ff\">None</span>, <span style=\"color: #00af00; text-decoration-color: #00af00\">500</span>, <span style=\"color: #00af00; text-decoration-color: #00af00\">128</span>)       │     <span style=\"color: #00af00; text-decoration-color: #00af00\">1,280,000</span> │\n",
       "├─────────────────────────────────┼────────────────────────┼───────────────┤\n",
       "│ simple_rnn_3 (<span style=\"color: #0087ff; text-decoration-color: #0087ff\">SimpleRNN</span>)        │ (<span style=\"color: #00d7ff; text-decoration-color: #00d7ff\">None</span>, <span style=\"color: #00af00; text-decoration-color: #00af00\">128</span>)            │        <span style=\"color: #00af00; text-decoration-color: #00af00\">32,896</span> │\n",
       "├─────────────────────────────────┼────────────────────────┼───────────────┤\n",
       "│ dense_3 (<span style=\"color: #0087ff; text-decoration-color: #0087ff\">Dense</span>)                 │ (<span style=\"color: #00d7ff; text-decoration-color: #00d7ff\">None</span>, <span style=\"color: #00af00; text-decoration-color: #00af00\">1</span>)              │           <span style=\"color: #00af00; text-decoration-color: #00af00\">129</span> │\n",
       "└─────────────────────────────────┴────────────────────────┴───────────────┘\n",
       "</pre>\n"
      ],
      "text/plain": [
       "┏━━━━━━━━━━━━━━━━━━━━━━━━━━━━━━━━━┳━━━━━━━━━━━━━━━━━━━━━━━━┳━━━━━━━━━━━━━━━┓\n",
       "┃\u001b[1m \u001b[0m\u001b[1mLayer (type)                   \u001b[0m\u001b[1m \u001b[0m┃\u001b[1m \u001b[0m\u001b[1mOutput Shape          \u001b[0m\u001b[1m \u001b[0m┃\u001b[1m \u001b[0m\u001b[1m      Param #\u001b[0m\u001b[1m \u001b[0m┃\n",
       "┡━━━━━━━━━━━━━━━━━━━━━━━━━━━━━━━━━╇━━━━━━━━━━━━━━━━━━━━━━━━╇━━━━━━━━━━━━━━━┩\n",
       "│ embedding_3 (\u001b[38;5;33mEmbedding\u001b[0m)         │ (\u001b[38;5;45mNone\u001b[0m, \u001b[38;5;34m500\u001b[0m, \u001b[38;5;34m128\u001b[0m)       │     \u001b[38;5;34m1,280,000\u001b[0m │\n",
       "├─────────────────────────────────┼────────────────────────┼───────────────┤\n",
       "│ simple_rnn_3 (\u001b[38;5;33mSimpleRNN\u001b[0m)        │ (\u001b[38;5;45mNone\u001b[0m, \u001b[38;5;34m128\u001b[0m)            │        \u001b[38;5;34m32,896\u001b[0m │\n",
       "├─────────────────────────────────┼────────────────────────┼───────────────┤\n",
       "│ dense_3 (\u001b[38;5;33mDense\u001b[0m)                 │ (\u001b[38;5;45mNone\u001b[0m, \u001b[38;5;34m1\u001b[0m)              │           \u001b[38;5;34m129\u001b[0m │\n",
       "└─────────────────────────────────┴────────────────────────┴───────────────┘\n"
      ]
     },
     "metadata": {},
     "output_type": "display_data"
    },
    {
     "data": {
      "text/html": [
       "<pre style=\"white-space:pre;overflow-x:auto;line-height:normal;font-family:Menlo,'DejaVu Sans Mono',consolas,'Courier New',monospace\"><span style=\"font-weight: bold\"> Total params: </span><span style=\"color: #00af00; text-decoration-color: #00af00\">1,313,027</span> (5.01 MB)\n",
       "</pre>\n"
      ],
      "text/plain": [
       "\u001b[1m Total params: \u001b[0m\u001b[38;5;34m1,313,027\u001b[0m (5.01 MB)\n"
      ]
     },
     "metadata": {},
     "output_type": "display_data"
    },
    {
     "data": {
      "text/html": [
       "<pre style=\"white-space:pre;overflow-x:auto;line-height:normal;font-family:Menlo,'DejaVu Sans Mono',consolas,'Courier New',monospace\"><span style=\"font-weight: bold\"> Trainable params: </span><span style=\"color: #00af00; text-decoration-color: #00af00\">1,313,025</span> (5.01 MB)\n",
       "</pre>\n"
      ],
      "text/plain": [
       "\u001b[1m Trainable params: \u001b[0m\u001b[38;5;34m1,313,025\u001b[0m (5.01 MB)\n"
      ]
     },
     "metadata": {},
     "output_type": "display_data"
    },
    {
     "data": {
      "text/html": [
       "<pre style=\"white-space:pre;overflow-x:auto;line-height:normal;font-family:Menlo,'DejaVu Sans Mono',consolas,'Courier New',monospace\"><span style=\"font-weight: bold\"> Non-trainable params: </span><span style=\"color: #00af00; text-decoration-color: #00af00\">0</span> (0.00 B)\n",
       "</pre>\n"
      ],
      "text/plain": [
       "\u001b[1m Non-trainable params: \u001b[0m\u001b[38;5;34m0\u001b[0m (0.00 B)\n"
      ]
     },
     "metadata": {},
     "output_type": "display_data"
    },
    {
     "data": {
      "text/html": [
       "<pre style=\"white-space:pre;overflow-x:auto;line-height:normal;font-family:Menlo,'DejaVu Sans Mono',consolas,'Courier New',monospace\"><span style=\"font-weight: bold\"> Optimizer params: </span><span style=\"color: #00af00; text-decoration-color: #00af00\">2</span> (12.00 B)\n",
       "</pre>\n"
      ],
      "text/plain": [
       "\u001b[1m Optimizer params: \u001b[0m\u001b[38;5;34m2\u001b[0m (12.00 B)\n"
      ]
     },
     "metadata": {},
     "output_type": "display_data"
    }
   ],
   "source": [
    "# Load the pre-trained model with ReLU activation\n",
    "model = load_model('simple_rnn_imdb.h5')\n",
    "model.summary()"
   ]
  },
  {
   "cell_type": "code",
   "execution_count": 4,
   "id": "ce3bd5df",
   "metadata": {},
   "outputs": [
    {
     "data": {
      "text/plain": [
       "[array([[-0.7149207 , -0.80143917, -0.7195892 , ...,  0.6889486 ,\n",
       "         -0.4159919 ,  0.64663684],\n",
       "        [-0.05656365, -0.01675485, -0.0060703 , ...,  0.01391243,\n",
       "         -0.01295606,  0.03256892],\n",
       "        [-0.02566789, -0.03096885, -0.04801298, ..., -0.02207945,\n",
       "         -0.03123975,  0.04217932],\n",
       "        ...,\n",
       "        [ 0.00465697, -0.022251  , -0.04146214, ...,  0.03518814,\n",
       "          0.02753583, -0.00430428],\n",
       "        [-0.00658554, -0.02354063, -0.04141896, ...,  0.00447483,\n",
       "          0.02974165,  0.04210154],\n",
       "        [ 0.01437055,  0.09764499,  0.04312959, ...,  0.00477824,\n",
       "          0.07573488,  0.10093787]], dtype=float32),\n",
       " array([[-0.09421854,  0.10430723,  0.04678915, ..., -0.00380592,\n",
       "          0.06859755, -0.01755095],\n",
       "        [-0.06866605,  0.01686239, -0.06341856, ...,  0.14205036,\n",
       "         -0.16292399, -0.02848394],\n",
       "        [-0.03195519,  0.01251202, -0.1537773 , ...,  0.13278681,\n",
       "         -0.13474812, -0.00668835],\n",
       "        ...,\n",
       "        [-0.12732063, -0.07638023,  0.05304645, ..., -0.02271939,\n",
       "         -0.11298457, -0.00370118],\n",
       "        [ 0.11305608, -0.00893679,  0.13119075, ...,  0.10427108,\n",
       "          0.06711189,  0.01281099],\n",
       "        [-0.12335887,  0.06292294,  0.04643603, ..., -0.16479388,\n",
       "         -0.09276159, -0.13222885]], dtype=float32),\n",
       " array([[ 0.05073064,  0.11949392,  0.01180333, ..., -0.01324247,\n",
       "          0.0016876 , -0.02546515],\n",
       "        [-0.11425781,  0.17774583,  0.11344233, ..., -0.08601782,\n",
       "          0.04296444,  0.1422105 ],\n",
       "        [-0.12843072,  0.09290975, -0.06113699, ..., -0.13935179,\n",
       "         -0.04967471, -0.06011216],\n",
       "        ...,\n",
       "        [-0.01185462, -0.02425355, -0.07192921, ..., -0.09457369,\n",
       "          0.01821025, -0.03530617],\n",
       "        [-0.06821095,  0.13101542,  0.00518658, ..., -0.0361979 ,\n",
       "         -0.10114374, -0.07503951],\n",
       "        [ 0.0401509 ,  0.09376676,  0.06108708, ..., -0.04015376,\n",
       "          0.0512294 ,  0.12236725]], dtype=float32),\n",
       " array([-0.01759544, -0.01540442, -0.00719311,  0.02778739,  0.03934744,\n",
       "         0.0006059 ,  0.0432695 , -0.03662273, -0.00484235, -0.01386499,\n",
       "         0.02621801,  0.0060712 , -0.039643  , -0.01109894,  0.02912998,\n",
       "        -0.00522875, -0.00221995,  0.010728  , -0.0074748 ,  0.01232494,\n",
       "        -0.01170283, -0.00309781,  0.01349548, -0.0119085 ,  0.03532307,\n",
       "         0.00649934, -0.06112513, -0.00934674, -0.02287098,  0.00330701,\n",
       "        -0.0362172 , -0.00753011,  0.04117897, -0.0200825 ,  0.03807523,\n",
       "        -0.00839972, -0.00223812, -0.02695918, -0.00895278, -0.00846334,\n",
       "         0.00350026,  0.01580405,  0.00883227,  0.00147716,  0.0274668 ,\n",
       "         0.00089493,  0.01935248, -0.00990352, -0.03482417, -0.02713973,\n",
       "         0.00605928,  0.02635155, -0.00143455,  0.02249325, -0.00567136,\n",
       "        -0.00354434, -0.00199554, -0.02684264, -0.03704162, -0.01722791,\n",
       "        -0.03040902,  0.01175288,  0.00074697, -0.00032315,  0.00396239,\n",
       "        -0.02297079, -0.00750262, -0.00560843,  0.02355381,  0.04904968,\n",
       "        -0.009661  ,  0.00544958, -0.01845611, -0.00921204,  0.00949662,\n",
       "         0.00836049,  0.02410227, -0.01641212, -0.0196542 , -0.010182  ,\n",
       "        -0.03936039,  0.01159133, -0.02031246, -0.00515487, -0.00605856,\n",
       "         0.00650652, -0.01433406, -0.06474392, -0.02929767,  0.04041646,\n",
       "        -0.00805304, -0.03687442,  0.01131256,  0.01432373, -0.02925957,\n",
       "         0.01649813, -0.00492807, -0.03637304, -0.01727175,  0.00987412,\n",
       "        -0.00356611, -0.01677688, -0.02887027,  0.01386304,  0.01762222,\n",
       "        -0.00066519, -0.00985793, -0.01713425, -0.02111285,  0.00685304,\n",
       "        -0.00324613,  0.00617727, -0.06489766, -0.05681004, -0.01533252,\n",
       "        -0.00726779, -0.00261732,  0.00054149, -0.00269755,  0.01687686,\n",
       "        -0.00423227, -0.01217225,  0.04049706, -0.01097675, -0.02565436,\n",
       "         0.00419785, -0.0128193 ,  0.00334547], dtype=float32),\n",
       " array([[-0.01541547],\n",
       "        [-0.02801048],\n",
       "        [-0.11729962],\n",
       "        [ 0.21981092],\n",
       "        [ 0.27061567],\n",
       "        [ 0.17462483],\n",
       "        [-0.19426353],\n",
       "        [ 0.20210952],\n",
       "        [-0.11416233],\n",
       "        [-0.09848252],\n",
       "        [ 0.20991193],\n",
       "        [ 0.20604162],\n",
       "        [-0.00813952],\n",
       "        [-0.06746011],\n",
       "        [ 0.16134515],\n",
       "        [-0.14094138],\n",
       "        [ 0.07109585],\n",
       "        [ 0.33621076],\n",
       "        [-0.19164453],\n",
       "        [-0.05950089],\n",
       "        [ 0.07499979],\n",
       "        [-0.10041774],\n",
       "        [ 0.13670218],\n",
       "        [-0.21151252],\n",
       "        [-0.14320262],\n",
       "        [ 0.04028304],\n",
       "        [-0.09684174],\n",
       "        [ 0.11381528],\n",
       "        [-0.06054628],\n",
       "        [ 0.0129575 ],\n",
       "        [ 0.06490675],\n",
       "        [ 0.06182966],\n",
       "        [-0.06111484],\n",
       "        [-0.9578521 ],\n",
       "        [ 0.00180656],\n",
       "        [-0.12548609],\n",
       "        [-0.03181931],\n",
       "        [ 0.14632167],\n",
       "        [ 0.14370446],\n",
       "        [-0.07444412],\n",
       "        [ 0.20709923],\n",
       "        [ 0.16879278],\n",
       "        [-0.0095931 ],\n",
       "        [-0.06017393],\n",
       "        [ 0.05321483],\n",
       "        [-0.14815636],\n",
       "        [-0.444976  ],\n",
       "        [-0.04510133],\n",
       "        [-0.17612052],\n",
       "        [-0.27557498],\n",
       "        [ 0.18710537],\n",
       "        [ 0.21610206],\n",
       "        [ 0.02808247],\n",
       "        [ 0.13140853],\n",
       "        [-0.1347056 ],\n",
       "        [ 0.04297626],\n",
       "        [-0.0286352 ],\n",
       "        [ 0.04267458],\n",
       "        [ 0.01036414],\n",
       "        [-0.01468368],\n",
       "        [ 0.01366563],\n",
       "        [ 0.6809685 ],\n",
       "        [ 0.08136402],\n",
       "        [ 0.7467698 ],\n",
       "        [-0.00906763],\n",
       "        [-0.16150948],\n",
       "        [-0.18987577],\n",
       "        [-0.14854947],\n",
       "        [ 0.3866438 ],\n",
       "        [ 0.21828935],\n",
       "        [-0.15259703],\n",
       "        [-0.07947268],\n",
       "        [ 0.05533136],\n",
       "        [-0.09859776],\n",
       "        [ 0.20836298],\n",
       "        [ 0.18390737],\n",
       "        [ 0.20964767],\n",
       "        [-1.1155655 ],\n",
       "        [ 0.11638511],\n",
       "        [-0.1770346 ],\n",
       "        [-0.22464095],\n",
       "        [-0.24800204],\n",
       "        [-0.225647  ],\n",
       "        [-0.08432834],\n",
       "        [ 0.17208518],\n",
       "        [-0.3056278 ],\n",
       "        [-0.06580691],\n",
       "        [ 0.1204834 ],\n",
       "        [-1.4851471 ],\n",
       "        [-0.16564195],\n",
       "        [-0.10832161],\n",
       "        [-0.06264926],\n",
       "        [-0.17663854],\n",
       "        [ 0.16309044],\n",
       "        [-0.02720102],\n",
       "        [-0.03296   ],\n",
       "        [-0.21122889],\n",
       "        [-0.08145579],\n",
       "        [ 0.10201358],\n",
       "        [ 0.01554971],\n",
       "        [-0.02912016],\n",
       "        [-0.14114974],\n",
       "        [-0.6379833 ],\n",
       "        [-0.17475283],\n",
       "        [ 0.12340666],\n",
       "        [ 0.34784353],\n",
       "        [ 0.13671929],\n",
       "        [-0.09822766],\n",
       "        [-0.15747057],\n",
       "        [-0.07068545],\n",
       "        [ 0.17153363],\n",
       "        [ 0.47405243],\n",
       "        [-0.19524203],\n",
       "        [ 0.01838524],\n",
       "        [-0.10193407],\n",
       "        [ 0.2242354 ],\n",
       "        [ 0.02200639],\n",
       "        [-0.16014507],\n",
       "        [ 0.13535166],\n",
       "        [ 0.10066109],\n",
       "        [-0.01739009],\n",
       "        [-0.20980138],\n",
       "        [ 0.28500295],\n",
       "        [ 0.102828  ],\n",
       "        [-0.06040615],\n",
       "        [-0.06105189],\n",
       "        [-0.046677  ],\n",
       "        [ 0.06145259]], dtype=float32),\n",
       " array([-0.80655485], dtype=float32)]"
      ]
     },
     "execution_count": 4,
     "metadata": {},
     "output_type": "execute_result"
    }
   ],
   "source": [
    "model.get_weights()"
   ]
  },
  {
   "cell_type": "code",
   "execution_count": 5,
   "id": "20efa645",
   "metadata": {},
   "outputs": [],
   "source": [
    "# Step 2: Helper Functions\n",
    "# Function to decode reviews\n",
    "def decode_review(encoded_review):\n",
    "    return ' '.join([reverse_word_index.get(i -3, '?') for i in encoded_review])\n",
    "\n",
    "# Function to preprocess user input\n",
    "def preprocess_text(text):\n",
    "    words = text.lower().split()\n",
    "    encoded_review = [word_index.get(word, 2) + 3 for word in words]\n",
    "    padded_review = sequence.pad_sequences([encoded_review], maxlen=500)\n",
    "    return padded_review"
   ]
  },
  {
   "cell_type": "code",
   "execution_count": null,
   "id": "a88bed5e",
   "metadata": {},
   "outputs": [],
   "source": [
    "# Step 3: Prediction\n",
    "# Prediction function\n",
    "def predict_sentiment(review):\n",
    "    preprocess_input = preprocess_text(review)\n",
    "    prediction = model.predict(preprocess_input)\n",
    "    sentiment = 'Positive' if prediction[0][0] > 0.5 else 'Negative'\n",
    "    return sentiment, prediction[0][0]"
   ]
  },
  {
   "cell_type": "code",
   "execution_count": 13,
   "id": "5108155e",
   "metadata": {},
   "outputs": [
    {
     "name": "stdout",
     "output_type": "stream",
     "text": [
      "\u001b[1m1/1\u001b[0m \u001b[32m━━━━━━━━━━━━━━━━━━━━\u001b[0m\u001b[37m\u001b[0m \u001b[1m0s\u001b[0m 45ms/step\n",
      "Review: This movie was fantastic! The acting was great and the plot was thrilling.\n",
      "Sentiment: Positive\n",
      "Prediction Score: 0.9995183348655701\n"
     ]
    }
   ],
   "source": [
    "# Step 4: User Input and Prediction\n",
    "# Example review for prediction\n",
    "example_review = \"This movie was fantastic! The acting was great and the plot was thrilling.\"\n",
    "sentiment, score = predict_sentiment(example_review) \n",
    "\n",
    "print(f'Review: {example_review}')\n",
    "print(f'Sentiment: {sentiment}')\n",
    "print(f'Prediction Score: {score}')"
   ]
  },
  {
   "cell_type": "code",
   "execution_count": null,
   "id": "8559deb6",
   "metadata": {},
   "outputs": [],
   "source": []
  },
  {
   "cell_type": "code",
   "execution_count": null,
   "id": "35613dd4",
   "metadata": {},
   "outputs": [],
   "source": []
  },
  {
   "cell_type": "code",
   "execution_count": null,
   "id": "4d5e54d5",
   "metadata": {},
   "outputs": [],
   "source": []
  },
  {
   "cell_type": "code",
   "execution_count": null,
   "id": "01e95818",
   "metadata": {},
   "outputs": [],
   "source": []
  },
  {
   "cell_type": "code",
   "execution_count": null,
   "id": "7176bddd",
   "metadata": {},
   "outputs": [],
   "source": []
  },
  {
   "cell_type": "code",
   "execution_count": null,
   "id": "78f352d0",
   "metadata": {},
   "outputs": [],
   "source": []
  }
 ],
 "metadata": {
  "kernelspec": {
   "display_name": "Python 3",
   "language": "python",
   "name": "python3"
  },
  "language_info": {
   "codemirror_mode": {
    "name": "ipython",
    "version": 3
   },
   "file_extension": ".py",
   "mimetype": "text/x-python",
   "name": "python",
   "nbconvert_exporter": "python",
   "pygments_lexer": "ipython3",
   "version": "3.11.13"
  }
 },
 "nbformat": 4,
 "nbformat_minor": 5
}
